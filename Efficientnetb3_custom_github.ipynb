{
  "cells": [
    {
      "cell_type": "code",
      "execution_count": 1,
      "metadata": {
        "id": "wYjDTUwUv-3R"
      },
      "outputs": [],
      "source": [
        "import numpy as np\n",
        "import pandas as pd\n",
        "import seaborn as sb\n",
        "import matplotlib.pyplot as plt\n",
        "  \n",
        "from glob import glob\n",
        "from PIL import Image\n",
        "from sklearn.model_selection import train_test_split\n",
        "from keras.preprocessing.image import ImageDataGenerator\n",
        "import tensorflow as tf\n",
        "from tensorflow import keras\n",
        "from keras import layers\n",
        "from functools import partial\n",
        "  \n",
        "AUTO = tf.data.experimental.AUTOTUNE\n",
        "import warnings\n",
        "warnings.filterwarnings('ignore')"
      ]
    },
    {
      "cell_type": "code",
      "execution_count": 2,
      "metadata": {
        "colab": {
          "base_uri": "https://localhost:8080/"
        },
        "id": "Norrzf17tfQr",
        "outputId": "a201e598-3f33-4966-c52d-b41309fc76b1"
      },
      "outputs": [
        {
          "name": "stdout",
          "output_type": "stream",
          "text": [
            "Mounted at /content/drive\n"
          ]
        }
      ],
      "source": [
        "from google.colab import drive\n",
        "drive.mount('/content/drive')"
      ]
    },
    {
      "cell_type": "markdown",
      "metadata": {
        "id": "LsfVHcte9GwW"
      },
      "source": [
        "## Augmentation used for different classes. For hc and lc , flip left right was used. For mc flip left right, skew and zoom were used. sample length should be the product of length of the datasamples for a class and the number of annotations performed on that set."
      ]
    },
    {
      "cell_type": "code",
      "execution_count": null,
      "metadata": {
        "colab": {
          "base_uri": "https://localhost:8080/"
        },
        "id": "3qe1xNPfOgeO",
        "outputId": "9bb18bfd-1390-40b2-d7a5-4d9538a306dc"
      },
      "outputs": [
        {
          "name": "stdout",
          "output_type": "stream",
          "text": [
            "Looking in indexes: https://pypi.org/simple, https://us-python.pkg.dev/colab-wheels/public/simple/\n",
            "Collecting augmentor\n",
            "  Downloading Augmentor-0.2.10-py2.py3-none-any.whl (38 kB)\n",
            "Requirement already satisfied: Pillow>=5.2.0 in /usr/local/lib/python3.8/dist-packages (from augmentor) (7.1.2)\n",
            "Requirement already satisfied: future>=0.16.0 in /usr/local/lib/python3.8/dist-packages (from augmentor) (0.16.0)\n",
            "Requirement already satisfied: numpy>=1.11.0 in /usr/local/lib/python3.8/dist-packages (from augmentor) (1.21.6)\n",
            "Requirement already satisfied: tqdm>=4.9.0 in /usr/local/lib/python3.8/dist-packages (from augmentor) (4.64.1)\n",
            "Installing collected packages: augmentor\n",
            "Successfully installed augmentor-0.2.10\n"
          ]
        }
      ],
      "source": [
        "!pip install augmentor"
      ]
    },
    {
      "cell_type": "code",
      "execution_count": null,
      "metadata": {
        "id": "gA6zWJIf9Erx"
      },
      "outputs": [],
      "source": [
        "import Augmentor\n",
        "# Passing the path of the image directory\n",
        "p = Augmentor.Pipeline('/content/High')\n",
        "  \n",
        "# Defining augmentation parameters and generating 5 samples\n",
        "p.flip_left_right(0.5)\n",
        "#p.black_and_white(0.1)\n",
        "#p.rotate(probability=0.7, max_left_rotation=10, max_right_rotation=10)\n",
        "#p.rotate(0.3, 10, 10)\n",
        "p.skew(0.4, 0.5)\n",
        "#p.zoom(probability = 0.2, min_factor = 1.1, max_factor = 1.5)\n",
        "p.sample(2*len(os.listdir('/content/High')))"
      ]
    },
    {
      "cell_type": "code",
      "execution_count": null,
      "metadata": {
        "id": "2sr3Z3sJlPB3"
      },
      "outputs": [],
      "source": [
        "!unzip /content/drive/MyDrive/ottawa_labeled.zip"
      ]
    },
    {
      "cell_type": "code",
      "execution_count": 2,
      "metadata": {
        "id": "fMmMLbLjwDQN"
      },
      "outputs": [],
      "source": [
        "import os\n",
        "import shutil\n",
        "def make_dataset(dset):\n",
        "  %cd /content/\n",
        "  if dset == 'train':\n",
        "      %mkdir train\n",
        "  else:\n",
        "      %mkdir test\n",
        "  print('here')\n",
        "  for img_fold in os.listdir(\"/content/\"+dset):\n",
        "    for img in os.listdir(\"/content/\"+dset+\"/\"+img_fold):\n",
        "      shutil.copy(\"/content/\"+dset+\"/\"+img_fold+'/'+img, \"/content/\"+dset+\"/\"+img)    \n",
        "  path = \"/content/\"+dset\n",
        "  return path\n",
        "  #test_path = \"/content/drive/MyDrive/dataset/val\""
      ]
    },
    {
      "cell_type": "code",
      "execution_count": 10,
      "metadata": {
        "colab": {
          "base_uri": "https://localhost:8080/"
        },
        "id": "ECyS8EmfqqEP",
        "outputId": "bc4ecb10-c0af-4230-a63c-ab64b22301e9"
      },
      "outputs": [
        {
          "name": "stdout",
          "output_type": "stream",
          "text": [
            "/content\n",
            "mkdir: cannot create directory ‘train’: File exists\n",
            "here\n",
            "/content\n",
            "here\n"
          ]
        }
      ],
      "source": [
        "train_path = make_dataset('train')\n",
        "test_path = make_dataset('test')"
      ]
    },
    {
      "cell_type": "markdown",
      "metadata": {
        "id": "WnL7CdzWJrsN"
      },
      "source": [
        "## creating data frame.Uncomment if necessary"
      ]
    },
    {
      "cell_type": "code",
      "execution_count": 3,
      "metadata": {
        "id": "W-DFbLi0wgqc"
      },
      "outputs": [],
      "source": [
        "import os\n",
        "import pandas as pd\n",
        "\n",
        "def create_csv(dset):\n",
        "    id = []\n",
        "    class_s = []\n",
        "    #class_dic = {'hc': 0, 'lc': 1, 'mc': 2}\n",
        "    for img_fold in os.listdir(\"/content/\"+dset):\n",
        "      for img in os.listdir(\"/content/\"+dset+\"/\"+img_fold):\n",
        "          id.append(img)\n",
        "          class_s.append(img_fold)\n",
        "    # Importing Pandas to create DataFrame\n",
        "    # Creating DataFrame and Storing it in variable df\n",
        "\n",
        "    data = {'id': id,\n",
        "            'class': class_s}\n",
        "    df = pd.DataFrame(data) \n",
        "    df.to_csv(dset + '_traffic.csv')\n",
        "    return df"
      ]
    },
    {
      "cell_type": "code",
      "execution_count": 12,
      "metadata": {
        "id": "yyWIe-dFNlGW"
      },
      "outputs": [],
      "source": [
        "df_train = create_csv('train')\n",
        "df_test = create_csv('test')"
      ]
    },
    {
      "cell_type": "code",
      "execution_count": 2,
      "metadata": {
        "id": "flqAHW8NFYrb"
      },
      "outputs": [],
      "source": [
        "# df_train = pd.read_csv('/content/train_traffic.csv')\n",
        "# df_test = pd.read_csv('/content/test_traffic.csv')"
      ]
    },
    {
      "cell_type": "code",
      "execution_count": null,
      "metadata": {
        "colab": {
          "base_uri": "https://localhost:8080/"
        },
        "id": "aAjlux6lK_W5",
        "outputId": "f9567be9-e8e7-44cf-e188-3f408d5b6402"
      },
      "outputs": [
        {
          "name": "stdout",
          "output_type": "stream",
          "text": [
            "Total number of images in the dataset:  1589\n",
            "Low       777\n",
            "Medium    414\n",
            "High      398\n",
            "Name: class, dtype: int64\n"
          ]
        }
      ],
      "source": [
        "print(\"Total number of images in the dataset: \", len(df_train))\n",
        "\n",
        "label_count = df_train['class'].value_counts()\n",
        "print(label_count)"
      ]
    },
    {
      "cell_type": "markdown",
      "metadata": {
        "id": "WfNIoaioWD3n"
      },
      "source": [
        "If you want to use \"categorical_crossentropy\", the labels should be one-hot-encoded. When your labels are given as an integer, changing to \"sparse_categorical_crossentropy\" is required. The advantage of using \"categorical_crossentropy\" is that it can give you class probabilities, which might be useful in some cases. Or load with flow_from_directory, flow_from_dataframe then use class_mode='categorical'"
      ]
    },
    {
      "cell_type": "code",
      "execution_count": 3,
      "metadata": {
        "id": "ByEA3hYvLKdR"
      },
      "outputs": [],
      "source": [
        "import cv2\n",
        "from sklearn.compose import ColumnTransformer\n",
        "from sklearn.utils import shuffle\n",
        "from sklearn.preprocessing import LabelEncoder , OneHotEncoder\n",
        "def convert_labels(dset, df):\n",
        "  \n",
        "  path = '/content/'+dset+'/'\n",
        "  dataset_path = df['class']\n",
        "\n",
        "  im_size = 300\n",
        "  count = 0\n",
        "  images = []\n",
        "  labels = []\n",
        "  y = [] \n",
        "  Y= []\n",
        "  for i in dataset_path:\n",
        "      data_path = path + str(i)  \n",
        "\n",
        "      filenames = df['id'][count]\n",
        "\n",
        "      count+=1\n",
        "      #for f in filenames:\n",
        "      img = cv2.imread(data_path + '/' + filenames)\n",
        "      img = cv2.resize(img, (im_size, im_size))\n",
        "      images.append(img)\n",
        "      labels.append(i)\n",
        "  images = np.array(images)\n",
        "\n",
        "  images = images.astype('float32') / 255.0\n",
        "  images.shape\n",
        " # ydf = {'id': df['id'],\n",
        " #         'class': df['class']}\n",
        "  y=df['class'].values\n",
        "  print(y[9], y[99], y[214])\n",
        " # ydf['id'] = y\n",
        "  y_labelencoder = LabelEncoder ()\n",
        "  y = y_labelencoder.fit_transform (y)\n",
        "  print(y[9], y[99], y[214])\n",
        "  y=y.reshape(-1,1)\n",
        "  from sklearn.compose import ColumnTransformer\n",
        "  ct = ColumnTransformer([('my_ohe', OneHotEncoder(), [0])], remainder='passthrough')\n",
        "  # if dset == 'test':\n",
        "  #       Y = ct.fit_transform(y).toarray()\n",
        "  # else:\n",
        "  Y = ct.fit_transform(y)\n",
        "  print(Y[:5])\n",
        "  #print(Y[35:])\n",
        "  #images, Y = shuffle(images, Y, random_state=1)\n",
        "  return images, Y"
      ]
    },
    {
      "cell_type": "code",
      "execution_count": 4,
      "metadata": {
        "colab": {
          "base_uri": "https://localhost:8080/"
        },
        "id": "naG26cRtMCqa",
        "outputId": "db890086-d00c-424d-d832-c2a461373ee7"
      },
      "outputs": [
        {
          "name": "stdout",
          "output_type": "stream",
          "text": [
            "Medium Medium Medium\n",
            "2 2 2\n",
            "[[0. 0. 1.]\n",
            " [0. 0. 1.]\n",
            " [0. 0. 1.]\n",
            " [0. 0. 1.]\n",
            " [0. 0. 1.]]\n",
            "Medium Low High\n",
            "2 1 0\n",
            "[[0. 0. 1.]\n",
            " [0. 0. 1.]\n",
            " [0. 0. 1.]\n",
            " [0. 0. 1.]\n",
            " [0. 0. 1.]]\n"
          ]
        }
      ],
      "source": [
        "#This model takes input images of shape (300, 300, 3), and the input data should range [0, 255]. \n",
        "train_xx, train_yy = convert_labels('train', df_train)\n",
        "test_x, test_y = convert_labels('test', df_test)\n"
      ]
    },
    {
      "cell_type": "code",
      "execution_count": null,
      "metadata": {
        "colab": {
          "base_uri": "https://localhost:8080/"
        },
        "id": "kuhTtGmq26rV",
        "outputId": "0a06cef5-60a9-433b-89d3-2edec9a2dc08"
      },
      "outputs": [
        {
          "data": {
            "text/plain": [
              "48"
            ]
          },
          "execution_count": 7,
          "metadata": {},
          "output_type": "execute_result"
        }
      ],
      "source": [
        "import gc\n",
        "gc.collect()"
      ]
    },
    {
      "cell_type": "code",
      "execution_count": null,
      "metadata": {
        "id": "z4Vb8ZpaNjbe"
      },
      "outputs": [],
      "source": [
        "# from sklearn.model_selection import train_test_split\n",
        "#train_x, xx, train_y, yy = train_test_split(train_x, train_y, test_size=0.0001, random_state=415)\n",
        "# #inpect the shape of the training and testing.\n",
        "# # print(train_x.shape)\n",
        "# # print(train_y.shape)\n",
        "# # print(test_x.shape)\n",
        "# # print(test_y.shape)"
      ]
    },
    {
      "cell_type": "code",
      "execution_count": 5,
      "metadata": {
        "id": "HSy39mkn8XLL"
      },
      "outputs": [],
      "source": [
        "shuffle(train_xx, train_yy, random_state=42)\n",
        "train_x, val_x, train_y, val_y = train_test_split(train_xx, train_yy, test_size=0.15, random_state=42)\n",
        "# test_x, xx, test_y, yy = train_test_split(test_x, test_y, test_size=0.0001, random_state=415)"
      ]
    },
    {
      "cell_type": "code",
      "execution_count": 6,
      "metadata": {
        "colab": {
          "base_uri": "https://localhost:8080/"
        },
        "id": "JwsiAVlVHPmb",
        "outputId": "d97fcd41-7b2b-42cf-997d-227e35f3baba"
      },
      "outputs": [
        {
          "name": "stdout",
          "output_type": "stream",
          "text": [
            "Epoch 1/50\n",
            "84/84 - 83s - loss: 3.5193 - accuracy: 0.3879 - val_loss: 1.6986 - val_accuracy: 0.2301 - 83s/epoch - 989ms/step\n",
            "Epoch 2/50\n",
            "84/84 - 52s - loss: 2.1615 - accuracy: 0.4196 - val_loss: 1.4598 - val_accuracy: 0.4812 - 52s/epoch - 623ms/step\n",
            "Epoch 3/50\n",
            "84/84 - 53s - loss: 1.6917 - accuracy: 0.4513 - val_loss: 1.0772 - val_accuracy: 0.4812 - 53s/epoch - 628ms/step\n",
            "Epoch 4/50\n",
            "84/84 - 51s - loss: 1.4104 - accuracy: 0.5226 - val_loss: 1.1639 - val_accuracy: 0.2301 - 51s/epoch - 613ms/step\n",
            "Epoch 5/50\n",
            "84/84 - 51s - loss: 0.9624 - accuracy: 0.6248 - val_loss: 1.4590 - val_accuracy: 0.2301 - 51s/epoch - 610ms/step\n",
            "Epoch 6/50\n",
            "84/84 - 51s - loss: 0.8307 - accuracy: 0.6678 - val_loss: 1.3443 - val_accuracy: 0.4812 - 51s/epoch - 611ms/step\n",
            "Epoch 7/50\n",
            "84/84 - 53s - loss: 0.7582 - accuracy: 0.7179 - val_loss: 1.0407 - val_accuracy: 0.4519 - 53s/epoch - 635ms/step\n",
            "Epoch 8/50\n",
            "84/84 - 53s - loss: 0.7561 - accuracy: 0.7080 - val_loss: 0.9839 - val_accuracy: 0.4017 - 53s/epoch - 627ms/step\n",
            "Epoch 9/50\n",
            "84/84 - 53s - loss: 0.6017 - accuracy: 0.7764 - val_loss: 0.8560 - val_accuracy: 0.6527 - 53s/epoch - 626ms/step\n",
            "Epoch 10/50\n",
            "84/84 - 52s - loss: 0.5412 - accuracy: 0.7898 - val_loss: 0.7486 - val_accuracy: 0.7322 - 52s/epoch - 624ms/step\n",
            "Epoch 11/50\n",
            "84/84 - 51s - loss: 0.4326 - accuracy: 0.8315 - val_loss: 0.8343 - val_accuracy: 0.7280 - 51s/epoch - 609ms/step\n",
            "Epoch 12/50\n",
            "84/84 - 51s - loss: 0.3800 - accuracy: 0.8674 - val_loss: 0.9873 - val_accuracy: 0.7782 - 51s/epoch - 608ms/step\n",
            "Epoch 13/50\n",
            "84/84 - 53s - loss: 0.3223 - accuracy: 0.8780 - val_loss: 0.6033 - val_accuracy: 0.7950 - 53s/epoch - 626ms/step\n",
            "Epoch 14/50\n",
            "84/84 - 52s - loss: 0.3797 - accuracy: 0.8568 - val_loss: 0.9553 - val_accuracy: 0.7992 - 52s/epoch - 623ms/step\n",
            "Epoch 15/50\n",
            "84/84 - 51s - loss: 0.3832 - accuracy: 0.8780 - val_loss: 0.8407 - val_accuracy: 0.7197 - 51s/epoch - 610ms/step\n",
            "Epoch 16/50\n",
            "84/84 - 51s - loss: 0.3178 - accuracy: 0.8815 - val_loss: 1.1582 - val_accuracy: 0.7615 - 51s/epoch - 611ms/step\n",
            "Epoch 17/50\n",
            "84/84 - 52s - loss: 0.2554 - accuracy: 0.9027 - val_loss: 1.0613 - val_accuracy: 0.7573 - 52s/epoch - 622ms/step\n",
            "Epoch 18/50\n",
            "84/84 - 51s - loss: 0.2684 - accuracy: 0.9161 - val_loss: 0.9363 - val_accuracy: 0.7657 - 51s/epoch - 611ms/step\n",
            "Epoch 19/50\n",
            "84/84 - 51s - loss: 0.2527 - accuracy: 0.9154 - val_loss: 0.7958 - val_accuracy: 0.7615 - 51s/epoch - 609ms/step\n",
            "Epoch 20/50\n",
            "84/84 - 51s - loss: 0.2429 - accuracy: 0.9134 - val_loss: 0.9589 - val_accuracy: 0.6653 - 51s/epoch - 607ms/step\n",
            "Epoch 21/50\n",
            "84/84 - 52s - loss: 0.2953 - accuracy: 0.8999 - val_loss: 1.2363 - val_accuracy: 0.7615 - 52s/epoch - 614ms/step\n",
            "Epoch 22/50\n",
            "84/84 - 51s - loss: 0.1732 - accuracy: 0.9485 - val_loss: 1.0096 - val_accuracy: 0.7615 - 51s/epoch - 612ms/step\n",
            "Epoch 23/50\n",
            "84/84 - 51s - loss: 0.1809 - accuracy: 0.9394 - val_loss: 0.8066 - val_accuracy: 0.7824 - 51s/epoch - 611ms/step\n",
            "Epoch 24/50\n",
            "84/84 - 51s - loss: 0.1367 - accuracy: 0.9633 - val_loss: 1.0424 - val_accuracy: 0.7406 - 51s/epoch - 609ms/step\n",
            "Epoch 25/50\n",
            "84/84 - 51s - loss: 0.1312 - accuracy: 0.9499 - val_loss: 1.2870 - val_accuracy: 0.7699 - 51s/epoch - 612ms/step\n",
            "Epoch 26/50\n",
            "84/84 - 51s - loss: 0.1008 - accuracy: 0.9676 - val_loss: 1.2511 - val_accuracy: 0.8033 - 51s/epoch - 611ms/step\n",
            "Epoch 27/50\n",
            "84/84 - 52s - loss: 0.1438 - accuracy: 0.9556 - val_loss: 0.9800 - val_accuracy: 0.7657 - 52s/epoch - 615ms/step\n"
          ]
        }
      ],
      "source": [
        "# Retrain the EfficientNetB3\n",
        "from keras.applications.efficientnet import EfficientNetB3\n",
        "NUM_CLASSES = 3\n",
        "IMG_SIZE = 300\n",
        "size = (IMG_SIZE, IMG_SIZE)\n",
        "\n",
        "\n",
        "inputs = layers.Input(shape=(IMG_SIZE, IMG_SIZE, 3))\n",
        "outputs = EfficientNetB3(include_top=True, weights=None, classes=NUM_CLASSES)(inputs)\n",
        "model = tf.keras.Model(inputs, outputs)\n",
        "opt = tf.keras.optimizers.Adam(learning_rate=0.0007)\n",
        "model.compile(optimizer=opt,loss='categorical_crossentropy',metrics=['accuracy'])\n",
        "early_stopping = tf.keras.callbacks.EarlyStopping(\n",
        "                                         patience=14,\n",
        "                                          \n",
        "                                          restore_best_weights=True)\n",
        "model_checkpoint = tf.keras.callbacks.ModelCheckpoint('./mdl_wts.hdf5', save_best_only=True, monitor='val_loss', mode='min')\n",
        "batch_size=16\n",
        "STEP_SIZE_TRAIN = len(train_x)//batch_size\n",
        "STEP_SIZE_VALID = len(val_x)//batch_size\n",
        " \n",
        "# fit model\n",
        "with tf.device('/GPU:0'):\n",
        "  history = model.fit(train_x, train_y,\n",
        "                        steps_per_epoch=STEP_SIZE_TRAIN,\n",
        "                        validation_data=(val_x, val_y),\n",
        "                        validation_steps=STEP_SIZE_VALID,\n",
        "                          #workers = 2,\n",
        "                          #shuffle = True,\n",
        "                          epochs=50, verbose=2, callbacks = [early_stopping, model_checkpoint])#])#"
      ]
    },
    {
      "cell_type": "code",
      "execution_count": 7,
      "metadata": {
        "colab": {
          "base_uri": "https://localhost:8080/",
          "height": 36
        },
        "id": "pdWU9kMdhHBU",
        "outputId": "5bd639c3-649f-4486-c586-775a4c005f7a"
      },
      "outputs": [
        {
          "data": {
            "application/vnd.google.colaboratory.intrinsic+json": {
              "type": "string"
            },
            "text/plain": [
              "'/content/drive/MyDrive/mdl_wts.hdf5'"
            ]
          },
          "execution_count": 7,
          "metadata": {},
          "output_type": "execute_result"
        }
      ],
      "source": [
        " import shutil\n",
        " shutil.copy('/content/mdl_wts.hdf5','/content/drive/MyDrive/mdl_wts.hdf5' )"
      ]
    },
    {
      "cell_type": "code",
      "execution_count": null,
      "metadata": {
        "id": "ZrNA9yDmGIhW"
      },
      "outputs": [],
      "source": [
        "#model.save(\"/content/drive/MyDrive/Efficientnet_b3_Model.h5\")"
      ]
    },
    {
      "cell_type": "code",
      "execution_count": 8,
      "metadata": {
        "colab": {
          "base_uri": "https://localhost:8080/",
          "height": 547
        },
        "id": "lHENF6DxGOJt",
        "outputId": "c684f201-8374-427f-9697-2a4c4bacd291"
      },
      "outputs": [
        {
          "data": {
            "text/plain": [
              "Text(0.5, 1.0, '\\nTraining and Validation Accuracy. \\nTrain Accuracy:0.9555712342262268\\nValidation Accuracy: 0.7656903862953186')"
            ]
          },
          "execution_count": 8,
          "metadata": {},
          "output_type": "execute_result"
        },
        {
          "data": {
            "image/png": "[encoded data removed]",
            "text/plain": [
              "<Figure size 720x1152 with 1 Axes>"
            ]
          },
          "metadata": {
            "needs_background": "light"
          },
          "output_type": "display_data"
        }
      ],
      "source": [
        "# store results\n",
        "acc = history.history['accuracy']\n",
        "val_acc = history.history['val_accuracy']\n",
        "loss = history.history['loss']\n",
        "val_loss = history.history['val_loss']\n",
        " \n",
        " \n",
        "# plot results\n",
        "# accuracy\n",
        "plt.figure(figsize=(10, 16))\n",
        "plt.rcParams['figure.figsize'] = [16, 9]\n",
        "plt.rcParams['font.size'] = 14\n",
        "plt.rcParams['axes.grid'] = True\n",
        "plt.rcParams['figure.facecolor'] = 'white'\n",
        "plt.subplot(2, 1, 1)\n",
        "plt.plot(acc, label='Training Accuracy')\n",
        "plt.plot(val_acc, label='Validation Accuracy')\n",
        "plt.legend(loc='lower right')\n",
        "plt.ylabel('Accuracy')\n",
        "plt.title(f'\\nTraining and Validation Accuracy. \\nTrain Accuracy:{str(acc[-1])}\\nValidation Accuracy: {str(val_acc[-1])}')"
      ]
    },
    {
      "cell_type": "code",
      "execution_count": 9,
      "metadata": {
        "colab": {
          "base_uri": "https://localhost:8080/",
          "height": 342
        },
        "id": "ATeJtRgwGUsm",
        "outputId": "81a63fbe-9e20-4cdb-91a2-83e0ca0d6594"
      },
      "outputs": [
        {
          "data": {
            "image/png": "[encoded data removed]",
            "text/plain": [
              "<Figure size 1152x648 with 1 Axes>"
            ]
          },
          "metadata": {},
          "output_type": "display_data"
        }
      ],
      "source": [
        "plt.subplot(2, 1, 2)\n",
        "plt.plot(loss, label='Training Loss')\n",
        "plt.plot(val_loss, label='Validation Loss')\n",
        "plt.legend(loc='upper right')\n",
        "plt.ylabel('Cross Entropy')\n",
        "plt.title(f'Training and Validation Loss. \\nTrain Loss:{str(loss[-1])}\\nValidation Loss: {str(val_loss[-1])}')\n",
        "plt.xlabel('epoch')\n",
        "plt.tight_layout(pad=3.0)\n",
        "plt.show()"
      ]
    },
    {
      "cell_type": "code",
      "execution_count": null,
      "metadata": {
        "colab": {
          "base_uri": "https://localhost:8080/"
        },
        "id": "bEBaSl-Gb4-u",
        "outputId": "de92696b-ae3d-4872-d4ae-59f800c4eb99"
      },
      "outputs": [
        {
          "data": {
            "text/plain": [
              "327"
            ]
          },
          "execution_count": 21,
          "metadata": {},
          "output_type": "execute_result"
        }
      ],
      "source": [
        "# len(test_x)"
      ]
    },
    {
      "cell_type": "code",
      "execution_count": 10,
      "metadata": {
        "colab": {
          "base_uri": "https://localhost:8080/"
        },
        "id": "yLDRQAcFGbIl",
        "outputId": "b7c3592c-3860-47f1-d367-606f42158572"
      },
      "outputs": [
        {
          "name": "stdout",
          "output_type": "stream",
          "text": [
            "7/7 [==============================] - 4s 401ms/step - loss: 1.5145 - accuracy: 0.6250\n",
            "[1.514506459236145, 0.625]\n",
            "Accuracy: 62.5000%\n",
            "Loss:  1.514506459236145\n"
          ]
        }
      ],
      "source": [
        "accuracy_score = model.evaluate(test_x, test_y)\n",
        "print(accuracy_score)\n",
        "print(\"Accuracy: {:.4f}%\".format(accuracy_score[1] * 100))\n",
        " \n",
        "print(\"Loss: \",accuracy_score[0])"
      ]
    },
    {
      "cell_type": "code",
      "execution_count": null,
      "metadata": {
        "id": "BJaMt0VpfgNd"
      },
      "outputs": [],
      "source": [
        "# from tensorflow import keras\n",
        "# model = keras.models.load_model('/content/drive/MyDrive/Efficientnet_b3_Model.h5')"
      ]
    },
    {
      "cell_type": "code",
      "execution_count": null,
      "metadata": {
        "colab": {
          "base_uri": "https://localhost:8080/",
          "height": 1000
        },
        "id": "RWVXO6L4Gjtu",
        "outputId": "0a9e3949-22ab-4943-dda2-9b8134a561aa"
      },
      "outputs": [],
      "source": [
        "class_names = ['High', 'Low', 'Medium']\n",
        "predictions = []\n",
        "real_val=[]\n",
        "i=0\n",
        "\n",
        "  #for image in sample.id:\n",
        "for img in df_test['id']:\n",
        "    # print(img)\n",
        "    # if img in df['id'][:577]:\n",
        "      # img = tf.keras.preprocessing.image.load_img(\"/content/drive/MyDrive/dataset/test/\"+img_fold+'/'+test_x)\n",
        "        image = img\n",
        "\n",
        "        class_idx = df_test['id'].tolist().index(img)\n",
        "        print(class_idx)\n",
        "        real_val.append(df_test['class'][class_idx])\n",
        "        \n",
        "        img = img = tf.keras.preprocessing.image.load_img(\"/content/test/\"+df_test['class'][class_idx]+'/'+img)\n",
        "        img = tf.keras.preprocessing.image.img_to_array(img)\n",
        "        img = tf.keras.preprocessing.image.smart_resize(img, (300, 300))\n",
        "        img = tf.reshape(img, (-1, 300, 300, 3))\n",
        "        prediction = model.predict(img/255)\n",
        "        predictions.append(class_names[np.argmax(prediction)])\n",
        "        plt.figure(figsize=[15, 10])\n",
        "        img1 = cv2.imread(\"/content/test/\"+df_test['class'][class_idx]+'/'+image)\n",
        "        plt.subplot(5, 5, 1)\n",
        "        plt.imshow(img1)\n",
        "        plt.title(class_names[np.argmax(prediction)])\n",
        "        plt.axis('off')\n",
        "print(real_val)"
      ]
    },
    {
      "cell_type": "code",
      "execution_count": null,
      "metadata": {
        "id": "js1BTgUhmlvp"
      },
      "outputs": [],
      "source": [
        "# for i in range(len(predictions)):\n",
        "#   if predictions[i] == real_val[i]:\n",
        "#     #print(\"right\", predictions[i]) \n",
        "#     a=0\n",
        "#   else: \n",
        "#     print(predictions[i], real_val[i])"
      ]
    },
    {
      "cell_type": "code",
      "execution_count": 12,
      "metadata": {
        "colab": {
          "base_uri": "https://localhost:8080/",
          "height": 576
        },
        "id": "bxy1jIS95zAG",
        "outputId": "620afb4c-4e14-4afb-acb4-446a05ba2171"
      },
      "outputs": [
        {
          "data": {
            "text/plain": [
              "<sklearn.metrics._plot.confusion_matrix.ConfusionMatrixDisplay at 0x7f54ed30c460>"
            ]
          },
          "execution_count": 12,
          "metadata": {},
          "output_type": "execute_result"
        },
        {
          "data": {
            "image/png": "[encoded data removed]",
            "text/plain": [
              "<Figure size 1152x648 with 2 Axes>"
            ]
          },
          "metadata": {},
          "output_type": "display_data"
        }
      ],
      "source": [
        "from sklearn.metrics import confusion_matrix, ConfusionMatrixDisplay\n",
        "\n",
        "clabels = ['High', 'Low', 'Medium']\n",
        "cm = confusion_matrix(real_val, predictions)\n",
        "cmd = ConfusionMatrixDisplay(cm, display_labels=clabels)\n",
        "cmd.plot()"
      ]
    },
    {
      "cell_type": "markdown",
      "metadata": {
        "id": "i2hj5hssnAt7"
      },
      "source": [
        "## Overall Prediction on trainset of 4475 images"
      ]
    },
    {
      "cell_type": "code",
      "execution_count": null,
      "metadata": {
        "colab": {
          "base_uri": "https://localhost:8080/"
        },
        "id": "92g3xoFlm_Fz",
        "outputId": "cedd483b-f9cc-428c-e172-5329615b6698"
      },
      "outputs": [
        {
          "name": "stdout",
          "output_type": "stream",
          "text": [
            "140/140 [==============================] - 47s 220ms/step - loss: 0.2688 - accuracy: 0.9115\n",
            "[0.2688242495059967, 0.9115083813667297]\n",
            "Accuracy: 91.1508%\n",
            "Loss:  0.2688242495059967\n"
          ]
        }
      ],
      "source": [
        "accuracy_score = model.evaluate(train_xx, train_yy)\n",
        "print(accuracy_score)\n",
        "print(\"Accuracy: {:.4f}%\".format(accuracy_score[1] * 100))\n",
        " \n",
        "print(\"Loss: \",accuracy_score[0])"
      ]
    }
  ],
  "metadata": {
    "accelerator": "GPU",
    "colab": {
      "provenance": []
    },
    "gpuClass": "standard",
    "kernelspec": {
      "display_name": "Python 3",
      "name": "python3"
    },
    "language_info": {
      "name": "python"
    }
  },
  "nbformat": 4,
  "nbformat_minor": 0
}
